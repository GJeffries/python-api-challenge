{
 "cells": [
  {
   "cell_type": "code",
   "execution_count": 3,
   "id": "8b053310",
   "metadata": {},
   "outputs": [],
   "source": [
    "# Dependencies and Setup\n",
    "import matplotlib.pyplot as plt\n",
    "import pandas as pd\n",
    "import numpy as np\n",
    "import requests\n",
    "import gmaps\n",
    "import os\n",
    "\n",
    "# Import API key\n",
    "from api_keys import g_key"
   ]
  },
  {
   "cell_type": "code",
   "execution_count": 5,
   "id": "5f8cd435",
   "metadata": {},
   "outputs": [
    {
     "data": {
      "text/html": [
       "<div>\n",
       "<style scoped>\n",
       "    .dataframe tbody tr th:only-of-type {\n",
       "        vertical-align: middle;\n",
       "    }\n",
       "\n",
       "    .dataframe tbody tr th {\n",
       "        vertical-align: top;\n",
       "    }\n",
       "\n",
       "    .dataframe thead th {\n",
       "        text-align: right;\n",
       "    }\n",
       "</style>\n",
       "<table border=\"1\" class=\"dataframe\">\n",
       "  <thead>\n",
       "    <tr style=\"text-align: right;\">\n",
       "      <th></th>\n",
       "      <th>City</th>\n",
       "      <th>Lat</th>\n",
       "      <th>Lng</th>\n",
       "      <th>Max Temp</th>\n",
       "      <th>Humidity</th>\n",
       "      <th>Cloudiness</th>\n",
       "      <th>Wind Speed</th>\n",
       "      <th>Country</th>\n",
       "      <th>Date</th>\n",
       "    </tr>\n",
       "  </thead>\n",
       "  <tbody>\n",
       "    <tr>\n",
       "      <th>0</th>\n",
       "      <td>Stephenville</td>\n",
       "      <td>32.2207</td>\n",
       "      <td>-98.2023</td>\n",
       "      <td>77.34</td>\n",
       "      <td>62</td>\n",
       "      <td>1</td>\n",
       "      <td>13.80</td>\n",
       "      <td>US</td>\n",
       "      <td>1638736943</td>\n",
       "    </tr>\n",
       "    <tr>\n",
       "      <th>1</th>\n",
       "      <td>Nuuk</td>\n",
       "      <td>64.1835</td>\n",
       "      <td>-51.7216</td>\n",
       "      <td>24.26</td>\n",
       "      <td>65</td>\n",
       "      <td>100</td>\n",
       "      <td>26.40</td>\n",
       "      <td>GL</td>\n",
       "      <td>1638737431</td>\n",
       "    </tr>\n",
       "    <tr>\n",
       "      <th>2</th>\n",
       "      <td>Atuona</td>\n",
       "      <td>-9.8000</td>\n",
       "      <td>-139.0333</td>\n",
       "      <td>78.69</td>\n",
       "      <td>73</td>\n",
       "      <td>6</td>\n",
       "      <td>18.61</td>\n",
       "      <td>PF</td>\n",
       "      <td>1638737432</td>\n",
       "    </tr>\n",
       "    <tr>\n",
       "      <th>3</th>\n",
       "      <td>Khatanga</td>\n",
       "      <td>71.9667</td>\n",
       "      <td>102.5000</td>\n",
       "      <td>-16.62</td>\n",
       "      <td>96</td>\n",
       "      <td>100</td>\n",
       "      <td>9.55</td>\n",
       "      <td>RU</td>\n",
       "      <td>1638737432</td>\n",
       "    </tr>\n",
       "    <tr>\n",
       "      <th>4</th>\n",
       "      <td>Hobart</td>\n",
       "      <td>-42.8794</td>\n",
       "      <td>147.3294</td>\n",
       "      <td>58.26</td>\n",
       "      <td>63</td>\n",
       "      <td>40</td>\n",
       "      <td>3.00</td>\n",
       "      <td>AU</td>\n",
       "      <td>1638737432</td>\n",
       "    </tr>\n",
       "  </tbody>\n",
       "</table>\n",
       "</div>"
      ],
      "text/plain": [
       "           City      Lat       Lng  Max Temp  Humidity  Cloudiness  \\\n",
       "0  Stephenville  32.2207  -98.2023     77.34        62           1   \n",
       "1          Nuuk  64.1835  -51.7216     24.26        65         100   \n",
       "2        Atuona  -9.8000 -139.0333     78.69        73           6   \n",
       "3      Khatanga  71.9667  102.5000    -16.62        96         100   \n",
       "4        Hobart -42.8794  147.3294     58.26        63          40   \n",
       "\n",
       "   Wind Speed Country        Date  \n",
       "0       13.80      US  1638736943  \n",
       "1       26.40      GL  1638737431  \n",
       "2       18.61      PF  1638737432  \n",
       "3        9.55      RU  1638737432  \n",
       "4        3.00      AU  1638737432  "
      ]
     },
     "execution_count": 5,
     "metadata": {},
     "output_type": "execute_result"
    }
   ],
   "source": [
    "# Import, Read and Display CSV file\n",
    "city_weather_data = \"../output_data/city_data.csv\"\n",
    "\n",
    "city_data = pd.read_csv(city_weather_data)\n",
    "\n",
    "city_df = pd.DataFrame(city_data)\n",
    "\n",
    "city_df.head()"
   ]
  },
  {
   "cell_type": "code",
   "execution_count": 11,
   "id": "452690a0",
   "metadata": {},
   "outputs": [
    {
     "data": {
      "application/vnd.jupyter.widget-view+json": {
       "model_id": "5630bcb8fc7a41308e671063bad07e6a",
       "version_major": 2,
       "version_minor": 0
      },
      "text/plain": [
       "Figure(layout=FigureLayout(height='420px'))"
      ]
     },
     "metadata": {},
     "output_type": "display_data"
    }
   ],
   "source": [
    "# Humidity Heatmap\n",
    "\n",
    "# Configure gmaps\n",
    "gmaps.configure(api_key=g_key)\n",
    "\n",
    "# Store latitude and longitude in locations\n",
    "locations = city_df[[\"Lat\", \"Lng\"]]\n",
    "\n",
    "# Fill NaN values and convert to float\n",
    "humidity = city_df[\"Humidity\"].astype(float)\n",
    "\n",
    "# Plot Heatmap\n",
    "heatmap = gmaps.figure()\n",
    "\n",
    "# Create heat layer\n",
    "heat_layer = gmaps.heatmap_layer(locations, weights=humidity, \n",
    "                                 dissipating=False, max_intensity=100,\n",
    "                                 point_radius=3)\n",
    "# Add layer\n",
    "fig.add_layer(heat_layer)\n",
    "\n",
    "# Display figure\n",
    "fig"
   ]
  },
  {
   "cell_type": "code",
   "execution_count": null,
   "id": "f3cb4b19",
   "metadata": {},
   "outputs": [],
   "source": []
  }
 ],
 "metadata": {
  "kernelspec": {
   "display_name": "Python 3",
   "language": "python",
   "name": "python3"
  },
  "language_info": {
   "codemirror_mode": {
    "name": "ipython",
    "version": 3
   },
   "file_extension": ".py",
   "mimetype": "text/x-python",
   "name": "python",
   "nbconvert_exporter": "python",
   "pygments_lexer": "ipython3",
   "version": "3.6.10"
  }
 },
 "nbformat": 4,
 "nbformat_minor": 5
}
